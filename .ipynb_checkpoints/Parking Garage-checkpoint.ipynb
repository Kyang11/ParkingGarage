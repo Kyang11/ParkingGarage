{
 "cells": [
  {
   "cell_type": "markdown",
   "id": "b66af9fd",
   "metadata": {},
   "source": [
    "### Parking Garage\n"
   ]
  },
  {
   "cell_type": "code",
   "execution_count": null,
   "id": "557925df",
   "metadata": {},
   "outputs": [
    {
     "name": "stdout",
     "output_type": "stream",
     "text": [
      " \n",
      "                1. check if there parking availabe:\n",
      "                2. pay for parking space\n",
      "                3. leaving the parking\n",
      "                4. exit program \n",
      "Please make a selection:1\n",
      "Here is your available tickets list: [0, 1, 2, 3, 4, 5, 6, 7, 8, 9, 10, 11, 12, 13, 14, 15, 16, 17, 18, 19]\n",
      "Here is your Spot: 19\n",
      "\n",
      "Here are the spots left over: [0, 1, 2, 3, 4, 5, 6, 7, 8, 9, 10, 11, 12, 13, 14, 15, 16, 17, 18].\n",
      "Please make a selection:2\n",
      "Please type 'pay' for parking: pay\n",
      "Enter the ticket number for payment: 47\n",
      "Ticket number 47 successfully paid\n"
     ]
    }
   ],
   "source": [
    "class Parkinggarage():\n",
    "    def __init__(self):   \n",
    "            \n",
    "        self.Ticket =list(range(20))\n",
    "        # self.parkingSpace=list(range(20))\n",
    "        self.currentTicket = {\"paid\":[]}\n",
    "        print(\"\"\" \n",
    "                1. check if there parking availabe:\n",
    "                2. pay for parking space\n",
    "                3. leaving the parking\n",
    "                4. exit program \"\"\")\n",
    "    def ParkingLot(self):\n",
    "        \n",
    "        print(f'Here is your available tickets list: {self.Ticket}')\n",
    "        if self.Ticket != []:\n",
    "            yourSpot = self.Ticket.pop()\n",
    "            print(f'Here is your Spot: {yourSpot}')\n",
    "            print(f'\\nHere are the spots left over: {self.Ticket}.')\n",
    "            \n",
    "        else:\n",
    "            print('Sorry to say it, there are no spots left here. Try one of my other garages, please!')\n",
    "                \n",
    "    def payForParking(self):\n",
    " \n",
    "        user_input= input(\"Please type 'pay' for parking: \")\n",
    "        if user_input.lower() == 'pay':\n",
    "            payment=input(\"Enter the ticket number for payment: \")\n",
    "            self.Ticket.pop(len(self.Ticket)-1)\n",
    "            # self.parkingSpace.pop(len(self.parkingSpace)-1)\n",
    "            print(f\"Ticket number {payment} successfully paid\")\n",
    "        else:\n",
    "            print(\"incorrect option\")\n",
    "\n",
    "    def leavingGarage(self):\n",
    "        user= input(\"Is the ticket have been paid? yes/no: \")\n",
    "        if user.lower() =='yes':\n",
    "            print('Thank you, have a nice day')\n",
    "        elif user.lower()== 'no':\n",
    "            payhere = input(\"Please make payment by type 'paid':\")\n",
    "            if payhere.lower() == 'paid':\n",
    "                self.currentTicket[\"paid\"].append([payhere])\n",
    "            else:\n",
    "                print('You have no pay yet')\n",
    "                \n",
    "            print(\"The payment have been make. Thank you, have a nice day\")\n",
    "            print(self.Ticket)\n",
    "            print(len(self.Ticket))\n",
    "            self.Ticket.append(len(self.Ticket))\n",
    "            # print(self.parkingSpace)\n",
    "            # print(len(self.parkingSpace)+1)\n",
    "            # self.parkingSpace.pop(len(self.parkingSpace)+1)\n",
    "        else: \n",
    "            print(\"You make a wrong selection\")\n",
    "    def checking(self):\n",
    "\n",
    "        while True:\n",
    "            checking =input(\"Please make a selection:\")\n",
    "            if checking =='1':\n",
    "                p.ParkingLot()\n",
    "            \n",
    "            elif checking=='2':\n",
    "                p.payForParking()\n",
    "            elif checking == '3':\n",
    "                p.leavingGarage()\n",
    "            elif checking =='4':\n",
    "                break\n",
    "            else:\n",
    "                print(\"You make a wrong option\")\n",
    "p=Parkinggarage()\n",
    "\n",
    "p.checking()"
   ]
  }
 ],
 "metadata": {
  "kernelspec": {
   "display_name": "Python 3 (ipykernel)",
   "language": "python",
   "name": "python3"
  },
  "language_info": {
   "codemirror_mode": {
    "name": "ipython",
    "version": 3
   },
   "file_extension": ".py",
   "mimetype": "text/x-python",
   "name": "python",
   "nbconvert_exporter": "python",
   "pygments_lexer": "ipython3",
   "version": "3.9.7"
  }
 },
 "nbformat": 4,
 "nbformat_minor": 5
}
